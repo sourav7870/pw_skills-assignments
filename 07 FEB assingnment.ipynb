{
 "cells": [
  {
   "cell_type": "markdown",
   "id": "dfcfed98-3921-44d5-9554-21589361854c",
   "metadata": {},
   "source": [
    "Q1. You are writing code for a company. The requirement of the company is that you create a python\n",
    "function that will check whether the password entered by the user is correct or not. The function should\n",
    "take the password as input and return the string “Valid Password” if the entered password follows the\n",
    "below-given password guidelines else it should return “Invalid Password”.\n",
    "Note: 1. The Password should contain at least two uppercase letters and at least two lowercase letters.\n",
    "2. The Password should contain at least a number and three special characters.\n",
    "3. The length of the password should be 10 characters long."
   ]
  },
  {
   "cell_type": "code",
   "execution_count": 2,
   "id": "2b72339e-0bbc-43c8-ae76-606d6d56a4ce",
   "metadata": {},
   "outputs": [],
   "source": [
    "def check_password(password):\n",
    "    if len(password)!=10:\n",
    "        return \"invalid password\"\n",
    "    uppercase_count=0\n",
    "    lowercase_count=0\n",
    "    number_count=0\n",
    "    special_count=0\n",
    "    \n",
    "    for char in password:\n",
    "        if char.isupper():\n",
    "            uppercase_count +=1\n",
    "        elif char.islower():\n",
    "            lowercase_count +=1\n",
    "        elif char.isdigit():\n",
    "            number_count +=1\n",
    "        elif not char.isalnum():\n",
    "            special_count +=1\n",
    "            \n",
    "    if uppercase_count<2 or lowercase_count<2 or number_count<1 or special_count<3:\n",
    "        return \"invalid password\"\n",
    "    else:\n",
    "        return \"valid password\""
   ]
  },
  {
   "cell_type": "code",
   "execution_count": 3,
   "id": "e8f72cc5-9cab-4045-b0ff-33435de418aa",
   "metadata": {},
   "outputs": [
    {
     "name": "stdout",
     "output_type": "stream",
     "text": [
      "valid password\n"
     ]
    }
   ],
   "source": [
    "password=\"P@wS^ill/1\"\n",
    "result=check_password(password)\n",
    "print(result)"
   ]
  },
  {
   "cell_type": "code",
   "execution_count": 4,
   "id": "34972593-cbb2-4623-a7a2-04c164e6486d",
   "metadata": {},
   "outputs": [
    {
     "name": "stdout",
     "output_type": "stream",
     "text": [
      "invalid password\n"
     ]
    }
   ],
   "source": [
    "password1=\"PwSkill!12\"\n",
    "result1=check_password(password1)\n",
    "print(result1)"
   ]
  },
  {
   "cell_type": "markdown",
   "id": "d88a8f11-bd75-4d57-a472-1eed3dbd78ee",
   "metadata": {},
   "source": [
    "Q2. Solve the below-given questions using at least one of the following:\n",
    "1. Lambda function\n",
    "2. Filter function\n",
    "3. map function\n",
    "4. List Comprehension\n",
    "- Check if the string starts with a particular letter\n",
    "- Check if the string is numeric\n",
    "- Sort a list of tuples having fruit names and their quantity. [(\"mango\",99),(\"orange\",80), (\"grapes\", 1000)]\n",
    "\n",
    "- Find the squares of numbers from 1 to 10\n",
    "- Find the cube root of numbers from 1 to 10\n",
    "- Check if a given number is even\n",
    "- Filter odd numbers from the given list [1,2,3,4,5,6,7,8,9,10]\n",
    "- Sort a list of integers into positive and negative integers lists [1,2,3,4,5,6,-1,-2,-3,-4,-5,0]"
   ]
  },
  {
   "cell_type": "code",
   "execution_count": 5,
   "id": "f560fc24-08e9-4e9c-b9eb-1a30cf9ab3ed",
   "metadata": {},
   "outputs": [
    {
     "data": {
      "text/plain": [
       "['apple', 'apricot']"
      ]
     },
     "execution_count": 5,
     "metadata": {},
     "output_type": "execute_result"
    }
   ],
   "source": [
    "#check if the string start with  particular letter\n",
    "string=[\"apple\",\"banana\",\"apricot\",\"orange,kiwi\"]\n",
    "letter=\"a\"\n",
    "list(filter(lambda x:x.startswith(letter),string))"
   ]
  },
  {
   "cell_type": "code",
   "execution_count": 19,
   "id": "93ab4586-73db-4bc2-ba99-158dbc1bb6b4",
   "metadata": {},
   "outputs": [
    {
     "data": {
      "text/plain": [
       "['123', '45']"
      ]
     },
     "execution_count": 19,
     "metadata": {},
     "output_type": "execute_result"
    }
   ],
   "source": [
    "# check if the string is numeric\n",
    "string1=[\"car\",\"123\",\"bus\",\"45\",\"train\"]\n",
    "list(filter(lambda x:x.isnumeric(),string1))"
   ]
  },
  {
   "cell_type": "code",
   "execution_count": 17,
   "id": "b7850cc8-ae15-404a-912e-8811bf183bad",
   "metadata": {},
   "outputs": [
    {
     "data": {
      "text/plain": [
       "[('orange', 80), ('mango', 99), ('grapes', 1000)]"
      ]
     },
     "execution_count": 17,
     "metadata": {},
     "output_type": "execute_result"
    }
   ],
   "source": [
    "#sort a list of tuple name and quantity of the fruits\n",
    "lst=[(\"mango\",99),(\"orange\",80),(\"grapes\",1000)]\n",
    "list(sorted(lst,key=lambda x:x[1]))"
   ]
  },
  {
   "cell_type": "code",
   "execution_count": 22,
   "id": "0bf13e71-f886-404c-b90f-4a9ca85373f5",
   "metadata": {},
   "outputs": [
    {
     "data": {
      "text/plain": [
       "[1, 4, 9, 16, 25, 36, 49, 64, 81, 100]"
      ]
     },
     "execution_count": 22,
     "metadata": {},
     "output_type": "execute_result"
    }
   ],
   "source": [
    "# squre root of 1 to 10\n",
    "list1=range(1,11)\n",
    "list(map(lambda x:x**2,list1))"
   ]
  },
  {
   "cell_type": "code",
   "execution_count": 24,
   "id": "8f0fd0b1-d8ae-440a-8769-b5921498611e",
   "metadata": {},
   "outputs": [
    {
     "data": {
      "text/plain": [
       "[1.0,\n",
       " 1.2599210498948732,\n",
       " 1.4422495703074083,\n",
       " 1.5874010519681994,\n",
       " 1.7099759466766968,\n",
       " 1.8171205928321397,\n",
       " 1.912931182772389,\n",
       " 2.0,\n",
       " 2.080083823051904,\n",
       " 2.154434690031884]"
      ]
     },
     "execution_count": 24,
     "metadata": {},
     "output_type": "execute_result"
    }
   ],
   "source": [
    "# cube root of 1 to 10\n",
    "import math\n",
    "list(map(lambda x:x**(1/3),list1))"
   ]
  },
  {
   "cell_type": "code",
   "execution_count": 4,
   "id": "c3dc450d-b413-4eab-9f64-84616782cca1",
   "metadata": {},
   "outputs": [
    {
     "data": {
      "text/plain": [
       "[12, 44, 88, 98]"
      ]
     },
     "execution_count": 4,
     "metadata": {},
     "output_type": "execute_result"
    }
   ],
   "source": [
    "# check if give list is even\n",
    "lst=(12,23,44,55,67,88,89,98)\n",
    "list(filter(lambda x:x%2==0,lst))"
   ]
  },
  {
   "cell_type": "code",
   "execution_count": 16,
   "id": "fc62af70-1994-477d-b40b-9e112bb91817",
   "metadata": {},
   "outputs": [
    {
     "name": "stdout",
     "output_type": "stream",
     "text": [
      "[1, 3, 5, 7, 9]\n"
     ]
    }
   ],
   "source": [
    "# Filter odd numbers from the given list [1,2,3,4,5,6,7,8,9,10]\n",
    "list2=[1,2,3,4,5,6,7,8,9,10]\n",
    "odd_number=[x for x in list2 if x%2!=0]\n",
    "print(odd_number)\n"
   ]
  },
  {
   "cell_type": "code",
   "execution_count": 21,
   "id": "d4019458-9a5c-44b4-98fd-7d1c90dfec5e",
   "metadata": {},
   "outputs": [
    {
     "name": "stdout",
     "output_type": "stream",
     "text": [
      "[1, 2, 3, 4, 5, 6]\n",
      "[-1, -2, -3, -4, -5]\n"
     ]
    }
   ],
   "source": [
    "# Sort a list of integers into positive and negative integers lists [1,2,3,4,5,6,-1,-2,-3,-4,-5,0]\n",
    "list3=[1,2,3,4,5,6,-1,-2,-3,-4,-5,0]\n",
    "positive_number=[x for x in list3 if x>0]\n",
    "negative_number=[x for x in list3 if x<0]\n",
    "print(positive_number)\n",
    "print(negative_number)"
   ]
  },
  {
   "cell_type": "code",
   "execution_count": null,
   "id": "ee335852-52de-41f2-8a92-7f057164a504",
   "metadata": {},
   "outputs": [],
   "source": []
  }
 ],
 "metadata": {
  "kernelspec": {
   "display_name": "Python 3 (ipykernel)",
   "language": "python",
   "name": "python3"
  },
  "language_info": {
   "codemirror_mode": {
    "name": "ipython",
    "version": 3
   },
   "file_extension": ".py",
   "mimetype": "text/x-python",
   "name": "python",
   "nbconvert_exporter": "python",
   "pygments_lexer": "ipython3",
   "version": "3.10.8"
  }
 },
 "nbformat": 4,
 "nbformat_minor": 5
}
