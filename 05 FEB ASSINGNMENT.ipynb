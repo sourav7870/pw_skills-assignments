{
 "cells": [
  {
   "cell_type": "markdown",
   "id": "f0900953-607f-496e-9252-10297437d4a8",
   "metadata": {},
   "source": [
    "Q1. Explain Class and Object with respect to Object-Oriented Programming. Give a suitable example."
   ]
  },
  {
   "cell_type": "markdown",
   "id": "3b1abb43-f763-429b-bf57-2362eebdcfdb",
   "metadata": {},
   "source": [
    "In Object orinted programming (OOP),a classs is a blueprint or templates that defines the properties and behaviours that an object of that class will have.It serves as blueprint for creating multiple objects with similar charcteristics. \n",
    " An object on the other hand ,is an instance of a class . it represent a specific entity or concept in the real world that can be maniplated and interated with in the program. Object have there own unique state and behaviour ,based on the class they are instantiated from."
   ]
  },
  {
   "cell_type": "code",
   "execution_count": 10,
   "id": "79e1567b-89dd-4716-9acf-a2b28dab7e64",
   "metadata": {},
   "outputs": [],
   "source": [
    "# example of this cncept\n",
    "class Rectangle:\n",
    "    def __init__(self,width,height):\n",
    "        self.width=width\n",
    "        self.height=height\n",
    "       \n",
    "    def calculate_area(self):\n",
    "        return self.width*self.height\n",
    "      \n",
    "    \n",
    "rectangle1=Rectangle(5,10)\n",
    "rectangle2=Rectangle(4,8)"
   ]
  },
  {
   "cell_type": "code",
   "execution_count": 11,
   "id": "5bc99df1-1a0f-431c-ba09-f16b72ae1632",
   "metadata": {},
   "outputs": [
    {
     "name": "stdout",
     "output_type": "stream",
     "text": [
      "50\n",
      "32\n"
     ]
    }
   ],
   "source": [
    "area1=rectangle1.calculate_area()\n",
    "area2=rectangle2.calculate_area()\n",
    "print(area1)\n",
    "print(area2)"
   ]
  },
  {
   "cell_type": "code",
   "execution_count": null,
   "id": "f0f46ea7-63a5-4375-849e-f5eeec566aa0",
   "metadata": {},
   "outputs": [],
   "source": []
  },
  {
   "cell_type": "markdown",
   "id": "ebe8b77f-7643-41a9-8085-6f01cb2c1701",
   "metadata": {},
   "source": [
    "Q2. Name the four pillars of OOPs."
   ]
  },
  {
   "cell_type": "markdown",
   "id": "81a34523-5291-40b5-a84f-841aec86f1a3",
   "metadata": {},
   "source": [
    "The Four pillers of Object orinted programming (OOPs) are:\n",
    "1. Encapsulation  \n",
    "2. Inheritance  \n",
    "3. Polymorphism \n",
    "4. Abstraction "
   ]
  },
  {
   "cell_type": "code",
   "execution_count": null,
   "id": "7f97a7ee-9eba-4cb2-9312-0d0f2ea8b9c7",
   "metadata": {},
   "outputs": [],
   "source": []
  },
  {
   "cell_type": "markdown",
   "id": "2b65e69f-517e-4eae-8ce8-276e2c9d197a",
   "metadata": {},
   "source": [
    "Q3. Explain why the __init__() function is used. Give a suitable example."
   ]
  },
  {
   "cell_type": "markdown",
   "id": "fe92475b-e8de-46b3-b6da-7341ad1adff8",
   "metadata": {},
   "source": [
    "The 'init()' function ,short for initilization ,is a commonly used function in proggaming languages. It is typically udes to perform any necessary setup or initilization tasks before the main execution of a program or the use of a specific object or module.\n",
    " The primary purpose of the 'init()' function is to ensure that the program object is in a valid and usable state before its starts execution or before it is accessed by the other parts of the code . it allows developers to initialize variables ,set default values , established cinection,load configuration or perform any necessary operation that needed to be donebefore the program can function correctly."
   ]
  },
  {
   "cell_type": "code",
   "execution_count": 1,
   "id": "7e3e3e86-5fb2-4c24-a55f-becd19276a53",
   "metadata": {},
   "outputs": [
    {
     "name": "stdout",
     "output_type": "stream",
     "text": [
      "250 10\n"
     ]
    }
   ],
   "source": [
    "# Here is an example of init() function\n",
    "class vechile:\n",
    "    def __init__(self,top_speed,mileage):\n",
    "        self.top_speed=top_speed\n",
    "        self.mileage=mileage\n",
    "        \n",
    "car1=vechile(250,10)\n",
    "print(car1.top_speed,car1.mileage)"
   ]
  },
  {
   "cell_type": "code",
   "execution_count": null,
   "id": "3a4cbe9a-577d-412f-889b-2a3ed4808b33",
   "metadata": {},
   "outputs": [],
   "source": []
  },
  {
   "cell_type": "markdown",
   "id": "14dc1a06-2f7c-4a10-8cf9-7b5bffb93e2d",
   "metadata": {},
   "source": [
    "Q4. Why self is used in OOPs?"
   ]
  },
  {
   "cell_type": "markdown",
   "id": "0c9f182d-d6dc-416e-b57e-2e1a672d9abf",
   "metadata": {},
   "source": [
    "- In object-oriented programming (OOP), the \"self\" keyword is typically used to refer to the current instance of a class. It is a convention in many programming languages, such as Python, to use the name \"self\" as the first parameter of instance methods.\n",
    "\n",
    "The purpose of \"self\" is to differentiate between instance variables (properties) and local variables within a class. When we define a method within a class, we need a way to access the properties and methods of that class's instance. By using the \"self\" keyword as the first parameter in a method definition, we are explicitly stating that the method belongs to the instance of the class and can operate on its data."
   ]
  },
  {
   "cell_type": "code",
   "execution_count": null,
   "id": "6de332c6-3b65-40da-941e-284b2cd6d1e4",
   "metadata": {},
   "outputs": [],
   "source": []
  },
  {
   "cell_type": "markdown",
   "id": "a73359ab-72dd-4e40-80cf-5436454b02f0",
   "metadata": {},
   "source": [
    "Q5. What is inheritance? Give an example for each type of inheritance."
   ]
  },
  {
   "cell_type": "markdown",
   "id": "8f4f45b2-461c-4e18-979a-20beb7f90ea6",
   "metadata": {},
   "source": [
    "Inheritance is a fundamental concept in object-oriented programming (OOP) that allows a class to inherit properties and methods from another class. The class that inherits is called the \"subclass\" or \"derived class,\" and the class being inherited from is called the \"superclass\" or \"base class.\" Inheritance promotes code reuse, extensibility, and hierarchical organization of classes.\n",
    "\n",
    "There are several types of inheritance:\n",
    "\n",
    "1. Single Inheritance: In single inheritance, a subclass inherits from a single superclass. The subclass extends the superclass by adding its own properties and methods.\n",
    "\n",
    "2. Multiple Inheritance: Multiple inheritance allows a subclass to inherit from multiple superclasses. The subclass combines the properties and methods from all the superclasses.\n",
    "\n",
    "3. Multilevel Inheritance: Multilevel inheritance involves deriving a class from a subclass, creating a hierarchical structure. Each subclass inherits properties and methods from its immediate superclass.\n",
    "\n",
    "4. Hierarchical Inheritance: Hierarchical inheritance occurs when multiple subclasses inherit from the same superclass. Each subclass inherits the properties and methods of the superclass independently.\n",
    "\n",
    "  Inheritance is a powerful mechanism in OOP that allows for code reuse and the creation of well-organized class hierarchies."
   ]
  },
  {
   "cell_type": "code",
   "execution_count": null,
   "id": "a2f5df9f-795d-4b18-884b-c5fa2a4d2032",
   "metadata": {},
   "outputs": [],
   "source": []
  }
 ],
 "metadata": {
  "kernelspec": {
   "display_name": "Python 3 (ipykernel)",
   "language": "python",
   "name": "python3"
  },
  "language_info": {
   "codemirror_mode": {
    "name": "ipython",
    "version": 3
   },
   "file_extension": ".py",
   "mimetype": "text/x-python",
   "name": "python",
   "nbconvert_exporter": "python",
   "pygments_lexer": "ipython3",
   "version": "3.10.8"
  }
 },
 "nbformat": 4,
 "nbformat_minor": 5
}
