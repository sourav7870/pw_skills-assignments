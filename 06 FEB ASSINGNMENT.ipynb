{
 "cells": [
  {
   "cell_type": "markdown",
   "id": "aa3e8788-472c-42e3-8494-31c71a87a43c",
   "metadata": {},
   "source": [
    "Q1. Create a function which will take a list as an argument and return the product of all the numbers\n",
    "after creating a flat list.\n",
    "Use the below-given list as an argument for your function.\n",
    "list1 = [1,2,3,4, [44,55,66, True], False, (34,56,78,89,34), {1,2,3,3,2,1}, {1:34, \"key2\": [55, 67, 78, 89], 4: (45,\n",
    "22, 61, 34)}, [56, 'data science'], 'Machine Learning']\n",
    "Note: you must extract numeric keys and values of the dictionary also."
   ]
  },
  {
   "cell_type": "code",
   "execution_count": 7,
   "id": "0c6bf4ac-479a-4bd8-894f-0784d18a4720",
   "metadata": {},
   "outputs": [],
   "source": [
    "def get_product(lst):\n",
    "    flat_list=[]\n",
    "    \n",
    "    def flatten_list(lst):\n",
    "        for item in lst:\n",
    "            if type(item)==list or type(item)==tuple:\n",
    "                flatten_list(item)\n",
    "            elif type(item)==set:\n",
    "                flatten_list(list(item))\n",
    "            elif type(item)==dict:\n",
    "                flatten_list(list(item.values()))\n",
    "            elif type(item) in (int,float):\n",
    "                flat_list.append(item)\n",
    "                \n",
    "    flatten_list(lst)\n",
    "    \n",
    "    product=1\n",
    "    for num in flat_list:\n",
    "        product *=num\n",
    "        \n",
    "    return product\n"
   ]
  },
  {
   "cell_type": "code",
   "execution_count": 8,
   "id": "ed63c88d-e934-48e1-89e5-1ac500671c05",
   "metadata": {},
   "outputs": [
    {
     "name": "stdout",
     "output_type": "stream",
     "text": [
      "1033677959746771369708460310528000\n"
     ]
    }
   ],
   "source": [
    "list1=[1,2,3,4, [44,55,66, True], False, (34,56,78,89,34), {1,2,3,3,2,1}, {1:34, \"key2\": [55, 67, 78, 89], 4: (45, 22, 61, 34)}, [56, \"data science\"], 'Machine Learning'] \n",
    "result=get_product(list1)\n",
    "print(result)"
   ]
  },
  {
   "cell_type": "code",
   "execution_count": 10,
   "id": "c1662706-bbb0-4eab-b42c-09ff346eb876",
   "metadata": {},
   "outputs": [
    {
     "data": {
      "text/plain": [
       "[(1, 34), ('key2', [55, 67, 78, 89]), (4, (45, 22, 61, 34))]"
      ]
     },
     "execution_count": 10,
     "metadata": {},
     "output_type": "execute_result"
    }
   ],
   "source": [
    "# extract key and values from the given list1\n",
    "def extract_keys_values(lst):\n",
    "    key_value_list=[]\n",
    "    for item in lst:\n",
    "        if type(item)==dict:\n",
    "            key_value_list.extend(item.items())\n",
    "        \n",
    "    return key_value_list\n",
    "\n",
    "extract_keys_values(list1)"
   ]
  },
  {
   "cell_type": "code",
   "execution_count": null,
   "id": "6b7556f4-bf33-4ee6-bdcc-2005b7c9c19f",
   "metadata": {},
   "outputs": [],
   "source": []
  },
  {
   "cell_type": "markdown",
   "id": "e4d43601-dea7-4d28-9f90-11b091cceca9",
   "metadata": {},
   "source": [
    "Q2. Write a python program for encrypting a message sent to you by your friend. The logic of encryption\n",
    "should be such that, for a the output should be z. For b, the output should be y. For c, the output should\n",
    "be x respectively. Also, the whitespace should be replaced with a dollar sign. Keep the punctuation\n",
    "marks unchanged.\n",
    "Input Sentence: I want to become a Data Scientist.\n",
    "Encrypt the above input sentence using the program you just created.\n",
    "Note: Convert the given input sentence into lowercase before encrypting. The final output should be\n",
    "lowercase."
   ]
  },
  {
   "cell_type": "code",
   "execution_count": 3,
   "id": "605a0f71-12de-4ca2-8002-961817f15e12",
   "metadata": {},
   "outputs": [],
   "source": [
    "def encrypt_sentence(message):\n",
    "    encrypted_message=\"\"\n",
    "    for char in message:\n",
    "        if char.isalpha():\n",
    "            char=char.lower()\n",
    "            encrypted_char=chr(ord('z')-(ord(char)-ord('a')))\n",
    "            encrypted_message +=encrypted_char\n",
    "        elif char.isspace():\n",
    "            encrypted_message +=\"$\"\n",
    "        else:\n",
    "            encrypted_message +=char\n",
    "    return encrypted_message\n",
    "            "
   ]
  },
  {
   "cell_type": "code",
   "execution_count": 4,
   "id": "1c9378ed-eda9-4912-9f59-48bd9e526113",
   "metadata": {},
   "outputs": [
    {
     "data": {
      "text/plain": [
       "'r$dzmg$gl$yvxlnv$z$wzgz$hxrvmgrhg.'"
      ]
     },
     "execution_count": 4,
     "metadata": {},
     "output_type": "execute_result"
    }
   ],
   "source": [
    "input_sentence=\"I want to become a Data Scientist.\"\n",
    "encrypt_sentence(input_sentence)"
   ]
  },
  {
   "cell_type": "code",
   "execution_count": null,
   "id": "111b155e-8e42-4a09-a6be-5d1a54726458",
   "metadata": {},
   "outputs": [],
   "source": []
  }
 ],
 "metadata": {
  "kernelspec": {
   "display_name": "Python 3 (ipykernel)",
   "language": "python",
   "name": "python3"
  },
  "language_info": {
   "codemirror_mode": {
    "name": "ipython",
    "version": 3
   },
   "file_extension": ".py",
   "mimetype": "text/x-python",
   "name": "python",
   "nbconvert_exporter": "python",
   "pygments_lexer": "ipython3",
   "version": "3.10.8"
  }
 },
 "nbformat": 4,
 "nbformat_minor": 5
}
