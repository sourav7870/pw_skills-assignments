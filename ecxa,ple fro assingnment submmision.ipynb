{
 "cells": [
  {
   "cell_type": "raw",
   "id": "a231b078-2ad3-4062-9526-4c02eab10170",
   "metadata": {},
   "source": [
    "what is data science\n",
    " - data science is procces of procceing raw data and convert them into a meaning full sattement to solve probles."
   ]
  },
  {
   "cell_type": "code",
   "execution_count": 4,
   "id": "6c4da0a2-a838-4357-a6da-7210a98b0c16",
   "metadata": {},
   "outputs": [
    {
     "name": "stdout",
     "output_type": "stream",
     "text": [
      "46\n"
     ]
    }
   ],
   "source": [
    "a=12\n",
    "b= 34\n",
    "c=a+b\n",
    "print(a+b)"
   ]
  },
  {
   "cell_type": "code",
   "execution_count": null,
   "id": "b56d356d-6850-4555-9432-af64dc0b845e",
   "metadata": {},
   "outputs": [],
   "source": []
  }
 ],
 "metadata": {
  "kernelspec": {
   "display_name": "Python 3 (ipykernel)",
   "language": "python",
   "name": "python3"
  },
  "language_info": {
   "codemirror_mode": {
    "name": "ipython",
    "version": 3
   },
   "file_extension": ".py",
   "mimetype": "text/x-python",
   "name": "python",
   "nbconvert_exporter": "python",
   "pygments_lexer": "ipython3",
   "version": "3.10.8"
  }
 },
 "nbformat": 4,
 "nbformat_minor": 5
}
