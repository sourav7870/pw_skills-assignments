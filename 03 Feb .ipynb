{
 "cells": [
  {
   "cell_type": "markdown",
   "id": "af971336-f0b4-4039-b34d-d8b215f1e850",
   "metadata": {},
   "source": [
    "Q1. Which keyword is used to create a function? Create a function to return a list of odd numbers in the\n",
    "range of 1 to 25.\n",
    "\n",
    "- \"def\" is the keyword used to create function in python. Here is the example of function ,which returns a list of odd number from range 1 to 25 .\n"
   ]
  },
  {
   "cell_type": "code",
   "execution_count": 14,
   "id": "00621da2-3b74-4cc9-8297-4f770617a007",
   "metadata": {},
   "outputs": [],
   "source": [
    "def odd_num():\n",
    "    odd_list=[]\n",
    "    for i in range (1,26):\n",
    "        if i % 2 !=0:\n",
    "            odd_list.append(i)\n",
    "    return odd_list"
   ]
  },
  {
   "cell_type": "code",
   "execution_count": 15,
   "id": "51a9a942-7f1c-4c9e-a42c-59500ced4267",
   "metadata": {},
   "outputs": [
    {
     "data": {
      "text/plain": [
       "[1, 3, 5, 7, 9, 11, 13, 15, 17, 19, 21, 23, 25]"
      ]
     },
     "execution_count": 15,
     "metadata": {},
     "output_type": "execute_result"
    }
   ],
   "source": [
    "odd_num()"
   ]
  },
  {
   "cell_type": "code",
   "execution_count": null,
   "id": "6a6ba083-e4ca-4879-9656-a7cd8700bd26",
   "metadata": {},
   "outputs": [],
   "source": []
  },
  {
   "cell_type": "markdown",
   "id": "bdbbd0a6-e5c9-4aea-a354-20c0ace46ca8",
   "metadata": {},
   "source": [
    "Q2. Why *args and **kwargs is used in some functions? Create a function each for *args and **kwargs to\n",
    "demonstrate their use.\n",
    "\n",
    "- In python *args and **kwargs are used to pass a variable nnumber of arguments to the function.\n",
    " *args allows us to pass a variable number of non-keyworded arguments to the function as a tuple ,while **kwargs allows us to pass avriable number of keywords arguments to the function as a dictionary."
   ]
  },
  {
   "cell_type": "code",
   "execution_count": 14,
   "id": "79ec6723-2d2d-4a3e-abbe-bf133a0ae9f8",
   "metadata": {},
   "outputs": [],
   "source": [
    "# creating a function using *args\n",
    "def test(*args):\n",
    "    c=[]\n",
    "    for i in args:\n",
    "        if type (i)==list:\n",
    "            c.append(i)\n",
    "            \n",
    "    return c"
   ]
  },
  {
   "cell_type": "code",
   "execution_count": 15,
   "id": "20cc4aa3-a9cc-4ffa-b697-0559d580ac16",
   "metadata": {},
   "outputs": [
    {
     "data": {
      "text/plain": [
       "[[1, 2, 3, 4], [5, 6, 7]]"
      ]
     },
     "execution_count": 15,
     "metadata": {},
     "output_type": "execute_result"
    }
   ],
   "source": [
    "test([1,2,3,4],\"pwskills\",[5,6,7])"
   ]
  },
  {
   "cell_type": "code",
   "execution_count": 18,
   "id": "b484fce2-8394-4300-9eaa-30875f770f14",
   "metadata": {},
   "outputs": [],
   "source": [
    "# creating a function using **kwargs\n",
    "def test1(**kwargs):\n",
    "    for i in kwargs.keys():\n",
    "        if type (kwargs[i])== tuple:\n",
    "            return i,kwargs[i]\n",
    "            \n",
    "    \n",
    "       "
   ]
  },
  {
   "cell_type": "code",
   "execution_count": 19,
   "id": "9d5f40cc-e3ac-42e4-bd67-f93952c932ad",
   "metadata": {},
   "outputs": [
    {
     "data": {
      "text/plain": [
       "('c', ('pwskills', 'data science'))"
      ]
     },
     "execution_count": 19,
     "metadata": {},
     "output_type": "execute_result"
    }
   ],
   "source": [
    "test1(a=1,b=[1,2,3,4],c=(\"pwskills\",\"data science\"))"
   ]
  },
  {
   "cell_type": "code",
   "execution_count": null,
   "id": "9299ed2e-8bc2-4942-b1ec-37092f811b76",
   "metadata": {},
   "outputs": [],
   "source": []
  },
  {
   "cell_type": "markdown",
   "id": "8cc298c0-8a17-4852-b8dd-032b036d82ea",
   "metadata": {},
   "source": [
    "Q.3 What is an iterator in python? Name the method used to initialise the iterator object and the method\n",
    "used for iteration. Use these methods to print the first five elements of the given list [2, 4, 6, 8, 10, 12, 14, 16,\n",
    "18, 20]."
   ]
  },
  {
   "cell_type": "markdown",
   "id": "3494b61d-ac53-47fd-a6cd-6df068c176de",
   "metadata": {},
   "source": [
    "- In Python ,an iterator is an object that enables us to traverse a container(such as a list) and access its elements one at a time .\n",
    "  \n",
    "    To create an iterator ob ject in python ,we can use the built-in 'iter( )' method .This method takes a container object and return an   iterator object that point to the first element of the container.\n",
    "     \n",
    "    To iterate over the elements of the container using the iterator object,we can use the built-in 'next( )' method . Each time we call      this method,it returns the next element of the container pointed to by the iterator .\n",
    "    "
   ]
  },
  {
   "cell_type": "code",
   "execution_count": 1,
   "id": "1e0bf2d5-4f64-4ea5-bbcd-b33da025ab5c",
   "metadata": {},
   "outputs": [
    {
     "name": "stdout",
     "output_type": "stream",
     "text": [
      "2\n",
      "4\n",
      "5\n",
      "6\n",
      "10\n"
     ]
    }
   ],
   "source": [
    "# example code to print five elements of the given list.\n",
    "lst=[2,4,5,6,10,12,14,16,18,20]\n",
    "iter_obj=iter(lst)\n",
    "for i in range(5):\n",
    "    print(next(iter_obj))"
   ]
  },
  {
   "cell_type": "code",
   "execution_count": null,
   "id": "c048261a-08b5-4484-b260-b29b0062ce88",
   "metadata": {},
   "outputs": [],
   "source": []
  },
  {
   "cell_type": "markdown",
   "id": "e13a4947-49a2-4d18-b0a2-3b53a72d0067",
   "metadata": {},
   "source": [
    "Q4. What is a generator function in python? Why yield keyword is used? Give an example of a generator\n",
    "function."
   ]
  },
  {
   "cell_type": "markdown",
   "id": "0664aae3-fb5a-43e3-9533-36822726f1ec",
   "metadata": {},
   "source": [
    "In python a generator function is a special type of function that returns an iterator object ,which can be used to iterate over a sequence of value. Unlike regular function ,which return a value and then terminate ,genrator function  can be paused and resumed, allowing them tp generate a sequence of value .\n",
    "  The 'yield' keyword is used in a generator function to define a point where a function should be paused and return a value to the caller ."
   ]
  },
  {
   "cell_type": "code",
   "execution_count": null,
   "id": "3a135a8f-6330-4479-8f2b-af2acb4e5ee5",
   "metadata": {},
   "outputs": [],
   "source": []
  },
  {
   "cell_type": "code",
   "execution_count": 9,
   "id": "47f7d86e-489e-4717-bb43-759447e4e3fb",
   "metadata": {},
   "outputs": [],
   "source": [
    "# Here is an example of generator function .\n",
    "def countdown(n):\n",
    "    while n>0:\n",
    "        yield n\n",
    "        n-=1\n",
    " "
   ]
  },
  {
   "cell_type": "code",
   "execution_count": 10,
   "id": "ffdda0e4-6595-42ad-a9bb-f018d7463ac2",
   "metadata": {},
   "outputs": [
    {
     "name": "stdout",
     "output_type": "stream",
     "text": [
      "5\n",
      "4\n",
      "3\n",
      "2\n",
      "1\n"
     ]
    }
   ],
   "source": [
    "for i in countdown(5):\n",
    "    print(i)"
   ]
  },
  {
   "cell_type": "code",
   "execution_count": null,
   "id": "8df97abb-c697-4275-81e9-7c0e80e04923",
   "metadata": {},
   "outputs": [],
   "source": []
  },
  {
   "cell_type": "markdown",
   "id": "84fc2bd7-c2f1-49c8-9580-e38085894761",
   "metadata": {},
   "source": [
    "Q5. Create a generator function for prime numbers less than 1000. Use the next() method to print the\n",
    "first 20 prime numbers."
   ]
  },
  {
   "cell_type": "code",
   "execution_count": 8,
   "id": "5241bc4c-30ba-4fc7-ace0-0efbab6a3ac2",
   "metadata": {},
   "outputs": [
    {
     "name": "stdout",
     "output_type": "stream",
     "text": [
      "The first 20 prime numbers:\n",
      "2\n",
      "3\n",
      "5\n",
      "7\n",
      "11\n",
      "13\n",
      "17\n",
      "19\n",
      "23\n",
      "29\n",
      "31\n",
      "37\n",
      "41\n",
      "43\n",
      "47\n",
      "53\n",
      "59\n",
      "61\n",
      "67\n",
      "71\n"
     ]
    }
   ],
   "source": [
    "def prime_numbers():\n",
    "    yield 2\n",
    "    primes = [2]\n",
    "    number= 3\n",
    "    while number < 1000:\n",
    "        is_prime = True\n",
    "        for prime in primes:\n",
    "            if number % prime == 0:\n",
    "                is_prime = False\n",
    "                break\n",
    "        if is_prime:\n",
    "            primes.append(number)\n",
    "            yield number\n",
    "        number += 2\n",
    "\n",
    "primes = prime_numbers()\n",
    "\n",
    "print(\"The first 20 prime numbers:\")\n",
    "for i in range(20):\n",
    "    print(next(primes))"
   ]
  },
  {
   "cell_type": "code",
   "execution_count": null,
   "id": "21615591-8ea3-4006-a712-3875ba15bb21",
   "metadata": {},
   "outputs": [],
   "source": []
  }
 ],
 "metadata": {
  "kernelspec": {
   "display_name": "Python 3 (ipykernel)",
   "language": "python",
   "name": "python3"
  },
  "language_info": {
   "codemirror_mode": {
    "name": "ipython",
    "version": 3
   },
   "file_extension": ".py",
   "mimetype": "text/x-python",
   "name": "python",
   "nbconvert_exporter": "python",
   "pygments_lexer": "ipython3",
   "version": "3.10.8"
  }
 },
 "nbformat": 4,
 "nbformat_minor": 5
}
