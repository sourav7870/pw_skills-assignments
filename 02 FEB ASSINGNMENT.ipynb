{
 "cells": [
  {
   "cell_type": "markdown",
   "id": "6248db28-5520-4888-87a8-68bc1363361b",
   "metadata": {},
   "source": [
    " Q1. What are the characteristics of the tuples? Is tuple immutable?\n",
    " -  Tuples are an orderd sequence of elements, similar to list in python ,but with the crucial differnce that they are   immutable .This means that once a tuple is created , its elements cannot be modified . Tuples are also hetrogeneous , meaning they can contain elements of differnt data types. Thye are indexable and iterable , making it easy to access and manupulate their elements . Because tuples are immutable , they are memory efficient and can be used store data that does't need to be modified . Tuples are particularly usefuul for [passing data between fuction and modules or when preserviing a set of values that shouldn't be change . \n",
    "    "
   ]
  },
  {
   "cell_type": "markdown",
   "id": "fe3a73da-fb07-495f-a0aa-ccb3d877ab54",
   "metadata": {},
   "source": [
    " Q2. What are the two tuple methods in python? Give an example of each method. Give a reason why tuples have only two in-built methods as compared to Lists.\n",
    " - In python ,there are two in built method for Tuples :\n",
    " 1. 'count': This methosd returns the number of times a specific element appears in a tuple.\n"
   ]
  },
  {
   "cell_type": "code",
   "execution_count": 4,
   "id": "beddbae3-7353-46f4-9406-9d422e1cfcff",
   "metadata": {},
   "outputs": [
    {
     "name": "stdout",
     "output_type": "stream",
     "text": [
      "3\n"
     ]
    }
   ],
   "source": [
    "# example of count method :\n",
    "my_tuple=(1,2,3,4,5,3,3)\n",
    "print(my_tuple.count(3))"
   ]
  },
  {
   "cell_type": "markdown",
   "id": "68a272dd-0b44-4ab6-b900-c74b941f8c40",
   "metadata": {},
   "source": [
    "2. 'index': this method returns the index of the first occurance of a specificied elements in a tuple. "
   ]
  },
  {
   "cell_type": "code",
   "execution_count": 7,
   "id": "db72769a-0ff7-4b4c-a93a-3691a7d6c013",
   "metadata": {},
   "outputs": [
    {
     "name": "stdout",
     "output_type": "stream",
     "text": [
      "2\n"
     ]
    }
   ],
   "source": [
    "# elample of index method:\n",
    "my_tuple1=(\"apple\",\"banana\",\"orange\",\"orange\")\n",
    "print(my_tuple1.index(\"orange\"))"
   ]
  },
  {
   "cell_type": "markdown",
   "id": "324be37c-2ade-4683-b6fa-43f0f8c97ab5",
   "metadata": {},
   "source": [
    "Tuples are designed to be immutable sequence,whereas list are mutable sequence . therefore ,list have many more built in methods for modifing and manupulating their contents . however since tuples are immutable and cannot be modified ,they only need a few methods for accessing and querying their elements. This design make tupe more efficient and memory friendly than list in some use cases ."
   ]
  },
  {
   "cell_type": "markdown",
   "id": "eaf5d701-3349-4cd8-893c-39277cb1e0f4",
   "metadata": {},
   "source": [
    "#Q3.  Which collection datatypes in python do not allow duplicate items? Write a code using a set to remove\n",
    "duplicates from the given list.\n",
    "List = [1, 1, 1, 2, 1, 3, 1, 4, 2, 1, 2, 2, 2, 3, 2, 4, 3, 1, 3, 2, 3, 3, 3, 4, 4, 1, 4, 2, 4, 3, 4, 4]\n",
    "\n",
    "- Sets in python do not allow duplicate items ."
   ]
  },
  {
   "cell_type": "code",
   "execution_count": 20,
   "id": "966a57ff-4b47-439a-b9d2-54f6a1037c43",
   "metadata": {},
   "outputs": [
    {
     "name": "stdout",
     "output_type": "stream",
     "text": [
      "{1, 2, 3, 4}\n"
     ]
    }
   ],
   "source": [
    "list1=[1, 1, 1, 2, 1, 3, 1, 4, 2, 1, 2, 2, 2, 3, 2, 4, 3, 1, 3, 2, 3, 3, 3, 4, 4, 1, 4, 2, 4, 3, 4, 4]\n",
    "my_list=set(list1)\n",
    "print(my_list)"
   ]
  },
  {
   "cell_type": "markdown",
   "id": "cbc53ff4-5271-4654-9bc2-936d2f9aab63",
   "metadata": {},
   "source": [
    "#Q4. Explain the difference between the union() and update() methods for a set. Give an example of\n",
    "each method.\n",
    "\n",
    "- Both the union() and update() method are used to combine two or more sets in python ,but they differnce in how they modify the original sets.\n",
    "\n",
    " the union() method returns a new set that contain all the unique elemnts from the original set and any other sets passed as argument ,without modifying the original sets .It other words it creates a new set that include all the elements from the both sets without duplicate. \n",
    " \n",
    " On the other hand the update() method modifies the original set by adding all unique elemnts from other sets passed as an arguments ."
   ]
  },
  {
   "cell_type": "code",
   "execution_count": 22,
   "id": "dc13929c-e26a-46ae-aa96-c707ae23793f",
   "metadata": {},
   "outputs": [
    {
     "name": "stdout",
     "output_type": "stream",
     "text": [
      "{1, 2, 3}\n",
      "{3, 4, 5}\n",
      "{1, 2, 3, 4, 5}\n"
     ]
    }
   ],
   "source": [
    "# example of union() method\n",
    "set1={1,2,3,}\n",
    "set2={3,4,5}\n",
    "set3=set1.union(set2)\n",
    "\n",
    "print(set1)\n",
    "print(set2)\n",
    "print(set3)"
   ]
  },
  {
   "cell_type": "code",
   "execution_count": 29,
   "id": "1f76f368-0673-4ef1-8661-72a740618ea5",
   "metadata": {},
   "outputs": [
    {
     "name": "stdout",
     "output_type": "stream",
     "text": [
      "{1, 2, 3, 4, 5}\n",
      "{3, 4, 5}\n"
     ]
    }
   ],
   "source": [
    "# example of update() method\n",
    "set4={1,2,3}\n",
    "set5={3,4,5}\n",
    "set4.update(set5)\n",
    "\n",
    "print(set4)\n",
    "print(set5)\n"
   ]
  },
  {
   "cell_type": "code",
   "execution_count": null,
   "id": "884eb5c2-5a70-456b-abf0-4c99299d3bcd",
   "metadata": {},
   "outputs": [],
   "source": []
  },
  {
   "cell_type": "markdown",
   "id": "f55f05c7-2f07-48e5-b0ff-d704637e62d5",
   "metadata": {},
   "source": [
    "#Q5 .What is a dictionary? Give an example. Also, state whether a dictionary is ordered or unordered.\n",
    "\n",
    " - A dicitionary is a mutable data structure in python that stores a collection of key-value pairs . Each key is unique ,and the value can be any data type . It is similar to real life dictionary , where the words(keys) are associated with their meaning(values). \n",
    "    In python ,dictionaries are unorderd , meaning that the order in which the items are stored in dicitonary is not guaranteed to be the same as the order in which they were added."
   ]
  },
  {
   "cell_type": "code",
   "execution_count": 35,
   "id": "ec2b8aa1-0ab5-4565-a77a-503143ce6d31",
   "metadata": {},
   "outputs": [
    {
     "name": "stdout",
     "output_type": "stream",
     "text": [
      "{'apple': 'red', 'banana': 'yellow', 'oranges': 'orange'}\n"
     ]
    }
   ],
   "source": [
    "# exapmle\n",
    "my_dict={\"apple\":\"red\",\"banana\":\"yellow\",\"oranges\":\"orange\"}\n",
    "print(my_dict)"
   ]
  },
  {
   "cell_type": "raw",
   "id": "f8498e39-7209-4a8e-8251-fbd2512d679e",
   "metadata": {},
   "source": [
    "Q06. Can we create a nested dictionary? If so, please give an example by creating a simple one-level\n",
    "nested dictionary.\n",
    "\n",
    " - Yes ,we can create neasted dicitionary in python."
   ]
  },
  {
   "cell_type": "code",
   "execution_count": 38,
   "id": "7ac052b6-1a71-436c-a4a8-ba71805de64f",
   "metadata": {},
   "outputs": [
    {
     "name": "stdout",
     "output_type": "stream",
     "text": [
      "{'name': 'saurav', 'age': 28, 'address': {'street': '25 c.r avenue', 'city': 'kolkata', 'state': 'West bengal', 'pin code': 700001}}\n"
     ]
    }
   ],
   "source": [
    "# example\n",
    "student_detail={\"name\":\"saurav\",\"age\":28,\"address\":{\"street\":\"25 c.r avenue\",\"city\":\"kolkata\",\"state\":\"West bengal\",\"pin code\":700001}}\n",
    "print(student_detail)"
   ]
  },
  {
   "cell_type": "code",
   "execution_count": 41,
   "id": "8b257f60-20e7-4e5f-8cde-c8d51460310d",
   "metadata": {},
   "outputs": [
    {
     "data": {
      "text/plain": [
       "28"
      ]
     },
     "execution_count": 41,
     "metadata": {},
     "output_type": "execute_result"
    }
   ],
   "source": [
    "student_detail.get(\"age\")"
   ]
  },
  {
   "cell_type": "code",
   "execution_count": 42,
   "id": "13640207-f625-4f4e-aec9-a791cb3e6a91",
   "metadata": {},
   "outputs": [
    {
     "data": {
      "text/plain": [
       "{'street': '25 c.r avenue',\n",
       " 'city': 'kolkata',\n",
       " 'state': 'West bengal',\n",
       " 'pin code': 700001}"
      ]
     },
     "execution_count": 42,
     "metadata": {},
     "output_type": "execute_result"
    }
   ],
   "source": [
    "student_detail.get(\"address\")"
   ]
  },
  {
   "cell_type": "code",
   "execution_count": null,
   "id": "1a6e9701-152c-483c-b355-dbb97bb2d497",
   "metadata": {},
   "outputs": [],
   "source": []
  },
  {
   "cell_type": "markdown",
   "id": "7d556b3f-82a7-49e5-be7d-1e717df6b67d",
   "metadata": {},
   "source": [
    "Q7. Using setdefault() method, create key named topics in the given dictionary and also add the value of\n",
    "the key as this list ['Python', 'Machine Learning’, 'Deep Learning']\n",
    "           dict1 = {'language' : 'Python', 'course': 'Data Science Masters'}           "
   ]
  },
  {
   "cell_type": "code",
   "execution_count": 45,
   "id": "bd4df7fb-d0b4-4935-8d73-2fd24be70ae1",
   "metadata": {},
   "outputs": [
    {
     "name": "stdout",
     "output_type": "stream",
     "text": [
      "{'language': 'python', 'course': 'Data science masters', 'topic': ['python', 'machine Learning', 'Deep learning']}\n"
     ]
    }
   ],
   "source": [
    "dict1={\"language\":\"python\",\"course\":\"Data science masters\"}\n",
    "dict1.setdefault(\"topic\",[\"python\",\"machine Learning\",\"Deep learning\"])\n",
    "print(dict1)\n",
    "       "
   ]
  },
  {
   "cell_type": "code",
   "execution_count": null,
   "id": "8fc059ab-0dad-47a3-ac80-92dbf95433e0",
   "metadata": {},
   "outputs": [],
   "source": []
  },
  {
   "cell_type": "markdown",
   "id": "ae9b9f78-c7ad-4d61-8f02-d6fb1ac5ed8d",
   "metadata": {},
   "source": [
    "Q8. What are the three view objects in dictionaries? Use the three in-built methods in python to display\n",
    "these three view objects for the given dictionary.\n",
    "dict1 = {'Sport': 'Cricket' , 'Teams': ['India', 'Australia', 'England', 'South Africa', 'Sri Lanka', 'New Zealand']}"
   ]
  },
  {
   "cell_type": "markdown",
   "id": "7c1fd3a9-1b51-4b67-a06d-090988056559",
   "metadata": {},
   "source": [
    "- Dictionaries in python are unorderd collection of key-values pairs ,where each key is unique . In python ,there are three main view objects associated with dictionaries :\n",
    "\n",
    "1. dict.keys() : this method returns a view object that contains all the keys in the dicitionary .\n",
    "\n",
    "2. dict.values() : This method returns a view object that contains all the values in the dicitionary .\n",
    "\n",
    "3. dict.items() : This method returns a view that contains all the key=value pairs in the dicionary as tuples , where each tuple consisits of a key-value pair ."
   ]
  },
  {
   "cell_type": "code",
   "execution_count": 46,
   "id": "fc91ad92-0a34-4dec-b4f4-dcea55df7cec",
   "metadata": {},
   "outputs": [],
   "source": [
    "dict2={'Sport': 'Cricket' , 'Teams': ['India', 'Australia', 'England', 'South Africa', 'Sri Lanka', 'New Zealand']}"
   ]
  },
  {
   "cell_type": "code",
   "execution_count": 47,
   "id": "b93d62c6-94b1-48c7-b4c1-d27ed7c4a440",
   "metadata": {},
   "outputs": [],
   "source": [
    "d=dict2"
   ]
  },
  {
   "cell_type": "code",
   "execution_count": 49,
   "id": "fc166054-407c-49fe-9f69-aa67c7f882a9",
   "metadata": {},
   "outputs": [
    {
     "name": "stdout",
     "output_type": "stream",
     "text": [
      "keys dict_keys(['Sport', 'Teams'])\n"
     ]
    }
   ],
   "source": [
    "d=dict2.keys()\n",
    "print(\"keys\",d)"
   ]
  },
  {
   "cell_type": "code",
   "execution_count": 50,
   "id": "ed3686d0-7f8a-4440-aef6-7b94c285f4bf",
   "metadata": {},
   "outputs": [
    {
     "name": "stdout",
     "output_type": "stream",
     "text": [
      "value dict_values(['Cricket', ['India', 'Australia', 'England', 'South Africa', 'Sri Lanka', 'New Zealand']])\n"
     ]
    }
   ],
   "source": [
    "d=dict2.values()\n",
    "print(\"value\",d)"
   ]
  },
  {
   "cell_type": "code",
   "execution_count": 51,
   "id": "b18b20d1-d9c2-4c7f-9f07-fe4f5ef07dff",
   "metadata": {},
   "outputs": [
    {
     "name": "stdout",
     "output_type": "stream",
     "text": [
      "items dict_items([('Sport', 'Cricket'), ('Teams', ['India', 'Australia', 'England', 'South Africa', 'Sri Lanka', 'New Zealand'])])\n"
     ]
    }
   ],
   "source": [
    "d=dict2.items()\n",
    "print(\"items\",d)"
   ]
  },
  {
   "cell_type": "code",
   "execution_count": null,
   "id": "1e44bb0f-535f-4955-b4fd-48e9c40fee4c",
   "metadata": {},
   "outputs": [],
   "source": []
  }
 ],
 "metadata": {
  "kernelspec": {
   "display_name": "Python 3 (ipykernel)",
   "language": "python",
   "name": "python3"
  },
  "language_info": {
   "codemirror_mode": {
    "name": "ipython",
    "version": 3
   },
   "file_extension": ".py",
   "mimetype": "text/x-python",
   "name": "python",
   "nbconvert_exporter": "python",
   "pygments_lexer": "ipython3",
   "version": "3.10.8"
  }
 },
 "nbformat": 4,
 "nbformat_minor": 5
}
