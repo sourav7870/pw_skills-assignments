{
 "cells": [
  {
   "cell_type": "markdown",
   "id": "4e648827-87fa-4ebc-bbd5-6749035efde3",
   "metadata": {},
   "source": [
    "1. Who developed Python Programming Language? \n",
    "- Python was developed by \"Guido van rossum\" .\n",
    "\n",
    "2. Which type of Programming does Python support?\n",
    "- Python is a versatile Programming language that support several programming paradigms , including imperative , Object Oriented  ,functional and procedural Programming  . It is a general purpose language that can be used for a varity of tasks ,such as Web development ,Data analysis ,Machine lerning , scientific computing and much more . Python syntax designed to be clear and readable , which makes it easy for beginners to learn and for experinced programmers to write high qulity code quickly. Additionaly ,python has a vast standard  library and a large and active community of ddevelopers , which means that there are many resources avilable to help us solving problems and learn new skills.\n",
    "\n",
    "3.  Is Python case sensitive when dealing with identifiers? \n",
    "- Yes , Python is case sensitive when dealing with identifiers ,which means that Uppercase and Lowercase letters are considered distinct.\n",
    "\n",
    " for example - \"Pw_Skills\" and \"pw_skills\" are considered two differnt indentifiers in Phython .\n",
    " \n",
    "4. What is the correct extension of the Python file?\n",
    " - The Correct extension for Python files is \".py\". This Extension  is used to identify files that contain Python code and to enable code editors and IDEs to provide language specific features .\n",
    " \n",
    " for example - \"my_program.py\" would be a valid name for a Pytho program files . \n",
    " \n",
    "5. Is Python code compiled or interpreted?\n",
    " \n",
    " - Python Code is generally interpreted whch means the code is executed line by line by the interpreter . when we run a python program ,the interpreter reads the code  ,interprets it ,and executes it in a single step . This allows for quick and easy development ,testing and debugging of code . However , python can also be compiled to bytecode using tools like PyInstallers or py2exe , which package the code and iterprete into a standalone executable file for distribution .\n",
    " \n",
    "6.   Name a few blocks of code used to define in Python language? \n",
    " \n",
    "-  In python ,there are several blocks of code that can be define using identation to indicate the start and end of block.  These blocks includes :\n",
    "\n",
    "  1.Function blocks : A function is block of code hthat performs a specific task . he code within a function is indented     and begins with the \"def\" keyword.\n",
    "  \n",
    "  2 .Conditional blocks : Conditional statements are used to test if a condition is True or False.The code within a            conditional block is indented and begains with the \"if\" Keyword .\n",
    "  \n",
    "  3 . Loop block : Loop stetement are used to iterate over a sequence of values . The code within the Loop block is             indented and begain with the \"for\" or \"while\" keyword .\n",
    "  \n",
    "  4 . Class blocks : A Class is blueprint for creating objects that have similar properties and methods .The code within       a class block is indented and begain with the \"class\" Keyword . \n",
    "  \n",
    "  5 . Exception blocks : Excception handling is used to handle errors and other exepctional events that may occurs during       program excecution . The code within  an exception block is indented and begains with the \"try\" keyword.\n",
    "  \n",
    " In all these cases ,indentation is used to define the scope and extent of each block of code .\n",
    " \n",
    " \n",
    "7. State a character used to give single-line comments in Python? \n",
    " -  By adding a single # character before any statement or line of code ,we can pass a single line comment i python .\n",
    " \n",
    " for example - # This is my first assingnment in data science masters .\n",
    " \n",
    " output- This is my first assingnment in data science masters .\n",
    "\n",
    "8. Mention functions which can help us to find the version of python that we are currently working on? \n",
    "- \n",
    "  "
   ]
  },
  {
   "cell_type": "code",
   "execution_count": 6,
   "id": "70a16db8-3e0d-489d-a5ec-797dc9f97aee",
   "metadata": {},
   "outputs": [
    {
     "name": "stdout",
     "output_type": "stream",
     "text": [
      "3.10.8 | packaged by conda-forge | (main, Nov 22 2022, 08:26:04) [GCC 10.4.0]\n"
     ]
    }
   ],
   "source": [
    "import sys\n",
    "print(sys.version)"
   ]
  },
  {
   "cell_type": "markdown",
   "id": "11f2305f-7b41-4456-9785-c24f141480d1",
   "metadata": {},
   "source": [
    "9. Python supports the creation of anonymous functions at runtime, using a construct called \n",
    "\n",
    "- Lambda\n",
    "\n",
    "10. What does pip stand for python?\n",
    "\n",
    "- Preferred Installer Program\n",
    "\n",
    "11. Mention a few built-in functions in python? \n",
    " \n",
    "- bool()\tReturns the boolean value of the specified object whether \"True or False .\n",
    "  float()\tReturns a floating point number\n",
    "  id()\t    Returns the id of an object\n",
    "  input()\tAllowing user input\n",
    "  int()  \tReturns an integer number\n",
    "  \n",
    "12. What is the maximum possible length of an identifier in Python? \n",
    "- 79 characters\n",
    "\n",
    "13. What are the benefits of using Python?\n",
    "\n",
    "- * Simple to Use and Understand\n",
    "  * Extensive library \n",
    "  * Object-Oriented Programming\n",
    "  * Artificial intelligence and machine learning\n",
    "  * User-friendly data structures \n",
    "  \n",
    "14. How is memory managed in Python? \n",
    "\n",
    "- Python has a private heap that stores our program’s objects and data structures. Python memory manager takes care of the bulk of the memory management work and allows us to concentrate on our code.\n",
    "\n",
    "15.  How to install Python on Windows and set path variables?\n",
    "\n",
    "- First, we need to locate where the python is being installed after downloading it. Press WINDOWS key and search for “Python”, we will get something like this:Click on open file location and we will be in a location where Python is installed, Copy the location path from the top by clicking over it. Now, we have to add the above-copied path as a variable so that windows can recognize. Search for “Environmental Variables”, we will see something like this: Click on that( Now click the “Environmental Variables” button\n",
    "\n",
    "16. Is indentation required in python? \n",
    "\n",
    "- Indentation is mandatory in python to define the blocks of statements. It is preferred to use whitespaces instead of tabs to indent in python ."
   ]
  },
  {
   "cell_type": "code",
   "execution_count": null,
   "id": "8c035cf4-0842-445c-b58f-00065cac2e48",
   "metadata": {},
   "outputs": [],
   "source": []
  }
 ],
 "metadata": {
  "kernelspec": {
   "display_name": "Python 3 (ipykernel)",
   "language": "python",
   "name": "python3"
  },
  "language_info": {
   "codemirror_mode": {
    "name": "ipython",
    "version": 3
   },
   "file_extension": ".py",
   "mimetype": "text/x-python",
   "name": "python",
   "nbconvert_exporter": "python",
   "pygments_lexer": "ipython3",
   "version": "3.10.8"
  }
 },
 "nbformat": 4,
 "nbformat_minor": 5
}
