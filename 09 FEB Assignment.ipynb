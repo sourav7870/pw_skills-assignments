{
 "cells": [
  {
   "cell_type": "markdown",
   "id": "6349f9ad-1fc6-4aa3-b7dd-e5e9db7a8847",
   "metadata": {},
   "source": [
    "- Q1  Create a vehicle class with an init method having instance variables as name_of_vehicle, max_speed\n",
    "and average_of_vehicle."
   ]
  },
  {
   "cell_type": "code",
   "execution_count": 8,
   "id": "ae439bf8-2261-49db-914b-2a73f0fea55e",
   "metadata": {},
   "outputs": [
    {
     "name": "stdout",
     "output_type": "stream",
     "text": [
      "volvo 300 15\n"
     ]
    }
   ],
   "source": [
    "class vehicle:\n",
    "    def __init__(self,vehicle_name,max_speed,average_of_vehicle):\n",
    "        self.vehicle_name=vehicle_name\n",
    "        self.max_speed=max_speed\n",
    "        self.average_of_vehicle=average_of_vehicle\n",
    "        \n",
    "    car=vehicle(\"volvo\",300,15)\n",
    "    print(car.vehicle_name,car.max_speed,car.average_of_vehicle)"
   ]
  },
  {
   "cell_type": "markdown",
   "id": "6f01cf2f-bc52-404a-9108-f87a5209a744",
   "metadata": {},
   "source": [
    "- Q2. Create a child class car from the vehicle class created in Que 1, which will inherit the vehicle class.\n",
    "Create a method named seating_capacity which takes capacity as an argument and returns the name of\n",
    "the vehicle and its seating capacity."
   ]
  },
  {
   "cell_type": "code",
   "execution_count": 36,
   "id": "074b091d-afab-4f82-9fbb-d65c32c09fdb",
   "metadata": {},
   "outputs": [
    {
     "name": "stdout",
     "output_type": "stream",
     "text": [
      "my car name is toyota has sitting capacity of 8\n"
     ]
    }
   ],
   "source": [
    "class car(vehicle):\n",
    "    def car_capacity(self,capacity):\n",
    "        print( f\"my car name is {self.vehicle_name} has sitting capacity of {capacity}\")\n",
    "        \n",
    "    car1=car(\"toyota\",220,18)\n",
    "    print(car1.car_capacity(8))"
   ]
  },
  {
   "cell_type": "code",
   "execution_count": null,
   "id": "b8ea97f5-0750-4a69-ba18-2cbe8b2790f0",
   "metadata": {},
   "outputs": [],
   "source": []
  },
  {
   "cell_type": "markdown",
   "id": "86977752-2e14-4b65-a8dd-5b29aed2becd",
   "metadata": {},
   "source": [
    "- Q3. What is multiple inheritance? Write a python code to demonstrate multiple inheritance."
   ]
  },
  {
   "cell_type": "markdown",
   "id": "83442c4b-365c-4f02-85e2-9df258b07974",
   "metadata": {},
   "source": [
    "- multiple inheritance is a feature in python that allows a class to inherit attributes and methods from multiple parent classes. it enable a derive class to inherit  charactristics and behabiour from more than one base class. This is concept provides flexibility and code reuse by allowing the cretion of complex class hierarchies.\n",
    "\n",
    "  In python ,a class can inherit from multiple parent classes by listing in parenthesis after the class name . When a method or attribute is accessed on an instance of a class ,Python searches for it in a specific order know as method resolution order(MRO). The MRO determine the sequence in which the parent classes are searched for the desire attribute or method .\n",
    "  \n",
    "  While multiple inhertance can be powreful ,it can also introduce challenges such as potential confliicts betwwen inherted method or nameing clashes .To resolve these conflits ,Python provides  a well defined set of rules , including the C3 linerization alogorithm, to detarmine MRO and ensure a consitant method resolution .\n",
    "  \n",
    "  overall , multple inhertance in python allows classes to inherit from multiple parent classes m promoting code reuse and facilating the creation of complex class hiearachies."
   ]
  },
  {
   "cell_type": "code",
   "execution_count": 27,
   "id": "93f9faf2-4a9f-4930-8787-4b13132b4a0d",
   "metadata": {},
   "outputs": [],
   "source": [
    "## Demostration of multiple Inhertance:\n",
    "class class1:\n",
    "    def __init__(self,name,top_speed,milage):\n",
    "        self.name=name\n",
    "        self.top_speed=top_speed\n",
    "        self.milage=milage"
   ]
  },
  {
   "cell_type": "code",
   "execution_count": 28,
   "id": "127af503-c29a-4c4e-a962-c131fc94106e",
   "metadata": {},
   "outputs": [],
   "source": [
    "class class2:\n",
    "    def __init__(self,colour,make):\n",
    "        self.colour=colour\n",
    "        self.make=make"
   ]
  },
  {
   "cell_type": "code",
   "execution_count": 29,
   "id": "41fbdcba-4bae-44fb-8133-2b30942f7790",
   "metadata": {},
   "outputs": [],
   "source": [
    "class class3:\n",
    "    def __init__(self,capacity):\n",
    "        self.capacity=capacity"
   ]
  },
  {
   "cell_type": "code",
   "execution_count": 41,
   "id": "4c4166cc-c0a2-4017-8943-902e606d215b",
   "metadata": {},
   "outputs": [
    {
     "name": "stdout",
     "output_type": "stream",
     "text": [
      "My car name is THAR from Mahindra whose top speed is 280 Km/hrs ,\n",
      "and The colour of my car is Red having a mileage of 20 Km/ltr and having sitting capacity of 4 people\n"
     ]
    }
   ],
   "source": [
    "class Car(class1,class2,class3):\n",
    "    def __init__(self,name,top_speed,milage,colour,make,capacity):\n",
    "        class1.__init__(self,name,top_speed,milage)\n",
    "        class2.__init__(self,colour,make)\n",
    "        class3.__init__(self,capacity)\n",
    "        \n",
    "    def print_car_details(self):\n",
    "        print(f\"My car name is {self.name} from {self.make} whose top speed is {self.top_speed} Km/hrs ,\")\n",
    "        print(f\"and The colour of my car is {self.colour} having a mileage of {self.milage} Km/ltr and having sitting capacity of {self.capacity} people\")\n",
    "        \n",
    "car=Car(\"THAR\",280,20,\"Red\",\"Mahindra\",4)\n",
    "car.print_car_details()\n"
   ]
  },
  {
   "cell_type": "code",
   "execution_count": null,
   "id": "5e934ab6-48a5-4190-8d48-3836fe7aec1f",
   "metadata": {},
   "outputs": [],
   "source": []
  },
  {
   "cell_type": "markdown",
   "id": "bc2e3de8-8311-4336-9bfa-968f64031793",
   "metadata": {},
   "source": [
    "Q4. What are getter and setter in python? Create a class and create a getter and a setter method in this\n",
    "class."
   ]
  },
  {
   "cell_type": "markdown",
   "id": "636d60ee-2797-4287-a541-9a72994bdfd6",
   "metadata": {},
   "source": [
    "- In python getter and setter method are used to retrive (get) and modify (set) the value to private attributes of a class . they provide a way to control access to the class attribute and add addition  logic if needed ."
   ]
  },
  {
   "cell_type": "code",
   "execution_count": 37,
   "id": "f3652771-dd23-4bc4-b54e-ebb200572537",
   "metadata": {},
   "outputs": [],
   "source": [
    "# here is an example of a class with getter and setter method:\n",
    "class person:\n",
    "    def __init__(self,name,age):\n",
    "        self.__name=name\n",
    "        self.__age=age\n",
    "        \n",
    "    def get_name(self):\n",
    "        return self.__name\n",
    "    \n",
    "    def get_age(self):\n",
    "        return self.__age\n",
    "    \n",
    "    def set_name(self,name):\n",
    "        self.__name=name\n",
    "         \n",
    "    def set_age(self,age):\n",
    "        if age>=0:\n",
    "            self.__age=age\n",
    "        else:\n",
    "            return \"Invalid value\"\n",
    "    "
   ]
  },
  {
   "cell_type": "code",
   "execution_count": 38,
   "id": "c9a2ce42-5a07-426e-b606-2ff2d738cc5c",
   "metadata": {},
   "outputs": [
    {
     "data": {
      "text/plain": [
       "'sourav'"
      ]
     },
     "execution_count": 38,
     "metadata": {},
     "output_type": "execute_result"
    }
   ],
   "source": [
    "obj_person=person(\"sourav\",29)\n",
    "obj_person.get_name()"
   ]
  },
  {
   "cell_type": "code",
   "execution_count": 39,
   "id": "a680d800-4adb-4f5d-88f8-1c23e8487168",
   "metadata": {},
   "outputs": [
    {
     "data": {
      "text/plain": [
       "29"
      ]
     },
     "execution_count": 39,
     "metadata": {},
     "output_type": "execute_result"
    }
   ],
   "source": [
    "obj_person.get_age()"
   ]
  },
  {
   "cell_type": "code",
   "execution_count": 40,
   "id": "a79c0e66-83e0-4cc9-8bd0-ea010702959e",
   "metadata": {},
   "outputs": [],
   "source": [
    "obj_person.set_name(\"gaurav\")"
   ]
  },
  {
   "cell_type": "code",
   "execution_count": 41,
   "id": "29cbd76f-9bd4-478a-839d-2a694dc4b00d",
   "metadata": {},
   "outputs": [],
   "source": [
    "obj_person.set_age(32)"
   ]
  },
  {
   "cell_type": "code",
   "execution_count": 42,
   "id": "915680bc-2fc9-403d-890d-1c218827db80",
   "metadata": {},
   "outputs": [
    {
     "data": {
      "text/plain": [
       "'gaurav'"
      ]
     },
     "execution_count": 42,
     "metadata": {},
     "output_type": "execute_result"
    }
   ],
   "source": [
    "obj_person.get_name()"
   ]
  },
  {
   "cell_type": "code",
   "execution_count": 43,
   "id": "3f1d68ef-8c18-43ff-a55c-4b3675da03d6",
   "metadata": {},
   "outputs": [
    {
     "data": {
      "text/plain": [
       "32"
      ]
     },
     "execution_count": 43,
     "metadata": {},
     "output_type": "execute_result"
    }
   ],
   "source": [
    "obj_person.get_age()"
   ]
  },
  {
   "cell_type": "code",
   "execution_count": 44,
   "id": "cbbb842d-f71d-4388-a3b6-349f62399298",
   "metadata": {},
   "outputs": [
    {
     "data": {
      "text/plain": [
       "'Invalid value'"
      ]
     },
     "execution_count": 44,
     "metadata": {},
     "output_type": "execute_result"
    }
   ],
   "source": [
    "obj_person.set_age(-12)"
   ]
  },
  {
   "cell_type": "code",
   "execution_count": null,
   "id": "5885888f-117f-44df-8db2-3bcfb5e9ff45",
   "metadata": {},
   "outputs": [],
   "source": []
  },
  {
   "cell_type": "markdown",
   "id": "774721fc-2dc5-4e6f-9aa7-cdd95b13d427",
   "metadata": {},
   "source": [
    "Q5.What is method overriding in python? Write a python code to demonstrate method overriding."
   ]
  },
  {
   "cell_type": "markdown",
   "id": "93991a10-1367-46fd-a025-acd43fb76042",
   "metadata": {},
   "source": [
    "- Method overriding is a concept in OOPs where a derived class provide is own impletation of a method that  is alreard define in its parent class .it alloows the derived class to modify or extend the behavour of yhe inherited method ."
   ]
  },
  {
   "cell_type": "code",
   "execution_count": 51,
   "id": "70e54f6d-f9ae-49ce-9dc7-b99a576e819c",
   "metadata": {},
   "outputs": [],
   "source": [
    "class vechile:\n",
    "    def vechile_start_sequence(self):\n",
    "        print(\"ignetion the engine\")\n",
    "        \n",
    "class engine(vechile):\n",
    "    def vechile_start_sequence(self):\n",
    "        print(\" The car engine was started \")\n",
    "        \n",
    "class accelerate(vechile):\n",
    "    def vechile_start_sequence(self):\n",
    "        print(\"accelerate the vechile to move forward\")\n",
    "    "
   ]
  },
  {
   "cell_type": "code",
   "execution_count": 52,
   "id": "72999079-9c97-4a29-8c85-6fc0c5c6eb47",
   "metadata": {},
   "outputs": [],
   "source": [
    "Vechile=vechile()\n",
    "Engine=engine()\n",
    "Accelertate=accelerate()"
   ]
  },
  {
   "cell_type": "code",
   "execution_count": 53,
   "id": "38e1bbc2-4c5d-4fb0-9bf0-44b572a2f94d",
   "metadata": {},
   "outputs": [
    {
     "name": "stdout",
     "output_type": "stream",
     "text": [
      "ignetion the engine\n"
     ]
    }
   ],
   "source": [
    "Vechile.vechile_start_sequence()"
   ]
  },
  {
   "cell_type": "code",
   "execution_count": 54,
   "id": "5822556f-7e08-4b1a-b65a-585c3725c284",
   "metadata": {},
   "outputs": [
    {
     "name": "stdout",
     "output_type": "stream",
     "text": [
      " The car engine was started \n"
     ]
    }
   ],
   "source": [
    "Engine.vechile_start_sequence()"
   ]
  },
  {
   "cell_type": "code",
   "execution_count": 55,
   "id": "14425fc3-92cf-44a4-8e2d-7df1749099c3",
   "metadata": {},
   "outputs": [
    {
     "name": "stdout",
     "output_type": "stream",
     "text": [
      "accelerate the vechile to move forward\n"
     ]
    }
   ],
   "source": [
    "Accelertate.vechile_start_sequence()"
   ]
  },
  {
   "cell_type": "code",
   "execution_count": null,
   "id": "b3ac53fc-6524-490c-ace8-ea6786b80c44",
   "metadata": {},
   "outputs": [],
   "source": []
  },
  {
   "cell_type": "code",
   "execution_count": null,
   "id": "01d3bd4e-a03d-47db-8e9d-74480e5b09aa",
   "metadata": {},
   "outputs": [],
   "source": []
  }
 ],
 "metadata": {
  "kernelspec": {
   "display_name": "Python 3 (ipykernel)",
   "language": "python",
   "name": "python3"
  },
  "language_info": {
   "codemirror_mode": {
    "name": "ipython",
    "version": 3
   },
   "file_extension": ".py",
   "mimetype": "text/x-python",
   "name": "python",
   "nbconvert_exporter": "python",
   "pygments_lexer": "ipython3",
   "version": "3.10.8"
  }
 },
 "nbformat": 4,
 "nbformat_minor": 5
}
