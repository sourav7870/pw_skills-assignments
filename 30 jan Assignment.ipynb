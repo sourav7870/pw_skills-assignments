{
 "cells": [
  {
   "cell_type": "markdown",
   "id": "f28476de-2cfd-4fac-8ae2-58e5e0d38036",
   "metadata": {},
   "source": [
    "# Q-1"
   ]
  },
  {
   "cell_type": "code",
   "execution_count": 12,
   "id": "977747b8-cdec-432d-b42c-8c25b5ec72ca",
   "metadata": {},
   "outputs": [
    {
     "name": "stdin",
     "output_type": "stream",
     "text": [
      "enter the percentage 75\n"
     ]
    },
    {
     "name": "stdout",
     "output_type": "stream",
     "text": [
      "you got C grade\n"
     ]
    }
   ],
   "source": [
    "# taking input as percentage 75\n",
    "percentage=int(input(\"enter the percentage\"))\n",
    "if percentage>90:\n",
    "    print(\"Congrats you got A grade\")\n",
    "elif percentage>80 and percentage<=90:\n",
    "    print(\"congrats you got B grade\")\n",
    "elif percentage>=60 and percentage<=80:\n",
    "    print(\"you got C grade\")\n",
    "else:\n",
    "    print(\"your grade is D\")\n",
    "    \n",
    "\n",
    "    "
   ]
  },
  {
   "cell_type": "markdown",
   "id": "a3428a61-6229-4b63-9248-908fcc809748",
   "metadata": {},
   "source": [
    "# Q-2"
   ]
  },
  {
   "cell_type": "code",
   "execution_count": 22,
   "id": "f507b515-fd31-4b48-ab0e-64fc7749e64d",
   "metadata": {},
   "outputs": [
    {
     "name": "stdin",
     "output_type": "stream",
     "text": [
      "enter the cost price of bike 65000\n"
     ]
    },
    {
     "name": "stdout",
     "output_type": "stream",
     "text": [
      "road tax to be paid @10% 6500.0\n"
     ]
    }
   ],
   "source": [
    "# taking input as 65000\n",
    "cost_price=int(input(\"enter the cost price of bike\"))\n",
    "if cost_price>100000:\n",
    "    print(f\"road tax to be paid @15% {cost_price*.15}\")\n",
    "elif cost_price>50000 and cost_price<=100000:\n",
    "    print(f\"road tax to be paid @10% {cost_price*.10}\")\n",
    "else:\n",
    "    print(f\"road tax to be paid @5%  {cost_price*.5}\")\n",
    "    "
   ]
  },
  {
   "cell_type": "markdown",
   "id": "9641f6a6-402a-4eaa-83bc-c29d8325ab80",
   "metadata": {},
   "source": [
    "# Q-3"
   ]
  },
  {
   "cell_type": "code",
   "execution_count": 44,
   "id": "1ae1f5dd-b77e-4e6a-aaea-7c10bce627a9",
   "metadata": {},
   "outputs": [
    {
     "name": "stdin",
     "output_type": "stream",
     "text": [
      "enter city name Agra\n"
     ]
    },
    {
     "name": "stdout",
     "output_type": "stream",
     "text": [
      "monument to watch Taj Mahal\n"
     ]
    }
   ],
   "source": [
    "# type 1\n",
    "# taking Agar as input\n",
    "\n",
    "city=input(\"enter city name\")\n",
    "if city==\"Delhi\":\n",
    "    print(\"monument to watch  Red fort\")\n",
    "elif city==\"Agra\":\n",
    "    print(\"monument to watch Taj Mahal\")\n",
    "else:\n",
    "    print(\" monument to watch Jal Mahal\")"
   ]
  },
  {
   "cell_type": "code",
   "execution_count": 45,
   "id": "3b731b5b-94ca-46cf-a748-c37082250d46",
   "metadata": {},
   "outputs": [],
   "source": [
    "# Another way of solving this question by using only  \" if \" statement"
   ]
  },
  {
   "cell_type": "code",
   "execution_count": 47,
   "id": "fd191f6a-2f34-4812-9755-8a35ac4dd327",
   "metadata": {},
   "outputs": [
    {
     "name": "stdin",
     "output_type": "stream",
     "text": [
      "enter name of the city Jaipur\n"
     ]
    },
    {
     "name": "stdout",
     "output_type": "stream",
     "text": [
      "monument to watch in Jaipur is Jal Mahal\n"
     ]
    }
   ],
   "source": [
    "city=input(\"enter name of the city\")\n",
    "if city ==\"Delhi\":\n",
    "    print(\"monument to watch in Delhi is Red fort\")\n",
    "if city==\"Agra\":\n",
    "    print(\"monument to watch in Agra is Taj Mahal\")\n",
    "if city==\"Jaipur\":\n",
    "    print(\"monument to watch in Jaipur is Jal Mahal\")"
   ]
  },
  {
   "cell_type": "markdown",
   "id": "12e60fbf-05c6-46f6-90a0-b99139d55990",
   "metadata": {},
   "source": [
    "# Q-4"
   ]
  },
  {
   "cell_type": "code",
   "execution_count": 11,
   "id": "989026bc-99ea-4298-824d-9beb39da50f5",
   "metadata": {},
   "outputs": [
    {
     "name": "stdin",
     "output_type": "stream",
     "text": [
      "enter the number 45\n"
     ]
    },
    {
     "name": "stdout",
     "output_type": "stream",
     "text": [
      "1\n",
      "2\n"
     ]
    }
   ],
   "source": [
    "number=int(input(\"enter the number\"))\n",
    "count=0\n",
    "while number>10:\n",
    "    number=number/3\n",
    "    count=count+1\n",
    "    print(count)"
   ]
  },
  {
   "cell_type": "markdown",
   "id": "60923e6c-afb8-4528-8e4c-be2104d8c9ed",
   "metadata": {},
   "source": [
    "# Q-5"
   ]
  },
  {
   "cell_type": "markdown",
   "id": "00d14c3b-6008-4fb7-8fae-029263256fd0",
   "metadata": {},
   "source": [
    "### why and when to use while loop inpython give a detailes descriptionwith example .\n",
    "\n",
    "#A while loop is a contro; flow statement in python that allows you to repeatedly execute a block of code as long as a certain condition is true . The condition is a boolean expression that is evaluate before each iteration of the loop . if the condition is true , the block of code inside the loop is executed After hte block of code is executed  ,the codition is checked again , and if it is still true , the block odf code is executed again .This processs is continue untill the codition becomes false .\n",
    "\n",
    " One common use case for a while loop in python is to iterate over a sequence of value or a range of number . for example \n",
    " the following code use a while loop to print the number 1 to 10\n",
    "     "
   ]
  },
  {
   "cell_type": "code",
   "execution_count": 18,
   "id": "ebede44d-0afe-405a-9d1d-2190202efed9",
   "metadata": {},
   "outputs": [
    {
     "name": "stdout",
     "output_type": "stream",
     "text": [
      "1\n",
      "2\n",
      "3\n",
      "4\n",
      "5\n",
      "6\n",
      "7\n",
      "8\n",
      "9\n",
      "10\n"
     ]
    }
   ],
   "source": [
    "i=1\n",
    "while i<=10:\n",
    "    print(i)\n",
    "    i=i+1"
   ]
  },
  {
   "cell_type": "markdown",
   "id": "b1ce649e-e459-4a3e-9c28-09d8d20c233e",
   "metadata": {},
   "source": [
    "# Q-6"
   ]
  },
  {
   "cell_type": "code",
   "execution_count": 12,
   "id": "96956659-ae6c-43b3-8ea1-fb572031a683",
   "metadata": {},
   "outputs": [
    {
     "name": "stdout",
     "output_type": "stream",
     "text": [
      "* \n",
      "** \n",
      "*** \n",
      "**** \n",
      "***** \n",
      "****** \n",
      "******* \n",
      "******** \n",
      "********* \n",
      "********** \n"
     ]
    }
   ],
   "source": [
    "# pattern 1\n",
    "i=1\n",
    "while i<=10:\n",
    "    j=1\n",
    "    while j<=i:\n",
    "        print(\"*\",end=\"\")\n",
    "        j=j+1\n",
    "    i=i+1\n",
    "    print(\" \")\n",
    "\n",
    "    "
   ]
  },
  {
   "cell_type": "code",
   "execution_count": 33,
   "id": "ab97a4eb-00ca-4cf5-8d6e-d43d5d618441",
   "metadata": {},
   "outputs": [
    {
     "name": "stdin",
     "output_type": "stream",
     "text": [
      "enter the number 7\n"
     ]
    },
    {
     "name": "stdout",
     "output_type": "stream",
     "text": [
      "      *\n",
      "     ***\n",
      "    *****\n",
      "   *******\n",
      "  *********\n",
      " ***********\n",
      "*************\n"
     ]
    }
   ],
   "source": [
    "# patten 2\n",
    "i=int(input(\"enter the number\"))\n",
    "row=1\n",
    "while row<=i:\n",
    "    row_space=i-row\n",
    "    star=(2*row)-1\n",
    "    while row_space>0:\n",
    "        print(\" \",end=\"\")\n",
    "        row_space=row_space-1\n",
    "    while star>0:\n",
    "        print(\"*\",end=\"\")\n",
    "        star=star-1\n",
    "    row=row+1\n",
    "    print()"
   ]
  },
  {
   "cell_type": "code",
   "execution_count": 4,
   "id": "200bd571-7715-4f21-9554-d8761f7e052d",
   "metadata": {},
   "outputs": [
    {
     "name": "stdin",
     "output_type": "stream",
     "text": [
      "enter the number 5\n"
     ]
    },
    {
     "name": "stdout",
     "output_type": "stream",
     "text": [
      "*****\n",
      "****\n",
      "***\n",
      "**\n",
      "*\n"
     ]
    }
   ],
   "source": [
    "# pattern 3\n",
    "i=int(input(\"enter the number\"))\n",
    "while i>=1:\n",
    "    j=i\n",
    "    while j>=1:\n",
    "        print(\"*\",end=\"\")\n",
    "        j=j-1\n",
    "    i=i-1\n",
    "    print()"
   ]
  },
  {
   "cell_type": "code",
   "execution_count": 5,
   "id": "62e947f2-92e3-4f75-b6f8-6e001e27a665",
   "metadata": {},
   "outputs": [
    {
     "name": "stdout",
     "output_type": "stream",
     "text": [
      "next\n"
     ]
    }
   ],
   "source": [
    "print(\"next\")"
   ]
  },
  {
   "cell_type": "markdown",
   "id": "429f7901-c32a-4633-a052-48a097b488a3",
   "metadata": {},
   "source": [
    "# Q-7"
   ]
  },
  {
   "cell_type": "code",
   "execution_count": 14,
   "id": "40f1d201-16aa-489a-9ac1-4e3d62bd4e35",
   "metadata": {},
   "outputs": [
    {
     "name": "stdout",
     "output_type": "stream",
     "text": [
      "10\n",
      "9\n",
      "8\n",
      "7\n",
      "6\n",
      "5\n",
      "4\n",
      "3\n",
      "2\n",
      "1\n"
     ]
    }
   ],
   "source": [
    "num=10\n",
    "while num>0:\n",
    "    print(num)\n",
    "    num=num-1\n",
    "    "
   ]
  },
  {
   "cell_type": "markdown",
   "id": "06b25224-064d-4da2-aec8-723cbdaab08c",
   "metadata": {},
   "source": [
    "Question 7 and 8 are same"
   ]
  },
  {
   "cell_type": "code",
   "execution_count": null,
   "id": "47f2dbc6-808e-4e88-b03c-92bf24e4bd64",
   "metadata": {},
   "outputs": [],
   "source": []
  }
 ],
 "metadata": {
  "kernelspec": {
   "display_name": "Python 3 (ipykernel)",
   "language": "python",
   "name": "python3"
  },
  "language_info": {
   "codemirror_mode": {
    "name": "ipython",
    "version": 3
   },
   "file_extension": ".py",
   "mimetype": "text/x-python",
   "name": "python",
   "nbconvert_exporter": "python",
   "pygments_lexer": "ipython3",
   "version": "3.10.8"
  }
 },
 "nbformat": 4,
 "nbformat_minor": 5
}
